{
 "cells": [
  {
   "cell_type": "markdown",
   "metadata": {},
   "source": [
    "1) load data set (pandas)\n",
    "\n",
    "1) Label Encoding (pandas)\n",
    "\n",
    "2) shufle dataset (pandas)\n",
    "\n",
    "3) split training (70) validation (10) and test (20) %\n",
    "\n",
    "4) Split inputs and labels (output)\n",
    "\n",
    "5) label one hot coding\n",
    "\n",
    "6) fit model without validation (compare training and testing acuracies)\n",
    "\n",
    "7) fit model wit validation (with history)\n",
    "\n",
    "8) create graph\n",
    "\n",
    "9) Introduce k-fold, as data is limited\n",
    "\n",
    "10) tune nework accuracy by ephoc numbers, change of optimizer,\n",
    "\n",
    "bath size, hidden layers, number of nueron,\n",
    "\n",
    "(chapter 3: Listing Listing 3.9, 3:11, 3:17, 3:18 3:19, 3:20)\n",
    "\n",
    "from tensorflow.keras.utils import to_categorical\n",
    "\n",
    "from sklearn import preprocessing as pp\n",
    "\n",
    "pp.labelEncoder()\n",
    "\n",
    "sonar_df.iloc(:,60] = pp.labelEncoder.fit_transform(sonar_df.iloc(:,60])\n",
    "\n",
    "df_train=sonar_df.iloc[:144,:59]\n",
    "\n",
    "df_train_label = sonar_df.iloc[:144, 59]\n",
    "\n",
    "train_data = df_train.to_numpy()\n",
    "\n",
    "train_labels = df_train_label.to_numpy()\n",
    "\n",
    "one_hot_trrain_labels = to_categorical(train_labels)\n",
    "\n",
    "#short cut\n",
    "\n",
    "train_data = sonar_df.iloc[:144,:59].values\n",
    "\n",
    "df.sample(frac=1)\n",
    "\n",
    "The frac keyword argument specifies the fraction of rows to return in the random sample,\n",
    "\n",
    "so frac=1 means return all rows (in random order)."
   ]
  },
  {
   "cell_type": "markdown",
   "metadata": {},
   "source": [
    "# 1) load data set (pandas)\n",
    "\n",
    "1) Label Encoding (pandas)"
   ]
  },
  {
   "cell_type": "code",
   "execution_count": 1,
   "metadata": {},
   "outputs": [],
   "source": [
    "#1\n",
    "import numpy as np\n",
    "import pandas as pd\n",
    "#3\n",
    "from sklearn.preprocessing import LabelEncoder\n",
    "from sklearn.model_selection import train_test_split\n",
    "#5\n",
    "from tensorflow.keras.models import Sequential\n",
    "from tensorflow.keras.layers import Dense\n",
    "from tensorflow.keras.layers import Activation\n",
    "#6\n",
    "import matplotlib.pyplot as plt\n",
    "#9\n",
    "from tensorflow.keras.wrappers.scikit_learn import KerasClassifier\n",
    "from sklearn.model_selection import StratifiedKFold\n",
    "from sklearn.model_selection import cross_val_score"
   ]
  },
  {
   "cell_type": "code",
   "execution_count": 2,
   "metadata": {},
   "outputs": [
    {
     "data": {
      "text/plain": [
       "array([[0.02, 0.0371, 0.0428, ..., 0.009, 0.0032, 'R'],\n",
       "       [0.0453, 0.0523, 0.0843, ..., 0.0052, 0.0044, 'R'],\n",
       "       [0.0262, 0.0582, 0.1099, ..., 0.0095, 0.0078, 'R'],\n",
       "       ...,\n",
       "       [0.0522, 0.0437, 0.018, ..., 0.0077, 0.0031, 'M'],\n",
       "       [0.0303, 0.0353, 0.049, ..., 0.0036, 0.0048, 'M'],\n",
       "       [0.026, 0.0363, 0.0136, ..., 0.0061, 0.0115, 'M']], dtype=object)"
      ]
     },
     "execution_count": 2,
     "metadata": {},
     "output_type": "execute_result"
    }
   ],
   "source": [
    "# load dataset\n",
    "dataframe = pd.read_csv(\"dataset/sonar.csv\", header=None)\n",
    "dataset = dataframe.values\n",
    "dataset"
   ]
  },
  {
   "cell_type": "code",
   "execution_count": 3,
   "metadata": {},
   "outputs": [],
   "source": [
    "# split into input (X) and output (Y) variables\n",
    "X = dataset[:,0:60].astype(float)\n",
    "Y = dataset[:,60]"
   ]
  },
  {
   "cell_type": "code",
   "execution_count": 4,
   "metadata": {},
   "outputs": [
    {
     "data": {
      "text/plain": [
       "array([[0.02  , 0.0371, 0.0428, ..., 0.0084, 0.009 , 0.0032],\n",
       "       [0.0453, 0.0523, 0.0843, ..., 0.0049, 0.0052, 0.0044],\n",
       "       [0.0262, 0.0582, 0.1099, ..., 0.0164, 0.0095, 0.0078],\n",
       "       ...,\n",
       "       [0.0522, 0.0437, 0.018 , ..., 0.0138, 0.0077, 0.0031],\n",
       "       [0.0303, 0.0353, 0.049 , ..., 0.0079, 0.0036, 0.0048],\n",
       "       [0.026 , 0.0363, 0.0136, ..., 0.0036, 0.0061, 0.0115]])"
      ]
     },
     "execution_count": 4,
     "metadata": {},
     "output_type": "execute_result"
    }
   ],
   "source": [
    "X"
   ]
  },
  {
   "cell_type": "code",
   "execution_count": 5,
   "metadata": {},
   "outputs": [
    {
     "data": {
      "text/plain": [
       "array(['R', 'R', 'R', 'R', 'R', 'R', 'R', 'R', 'R', 'R', 'R', 'R', 'R',\n",
       "       'R', 'R', 'R', 'R', 'R', 'R', 'R', 'R', 'R', 'R', 'R', 'R', 'R',\n",
       "       'R', 'R', 'R', 'R', 'R', 'R', 'R', 'R', 'R', 'R', 'R', 'R', 'R',\n",
       "       'R', 'R', 'R', 'R', 'R', 'R', 'R', 'R', 'R', 'R', 'R', 'R', 'R',\n",
       "       'R', 'R', 'R', 'R', 'R', 'R', 'R', 'R', 'R', 'R', 'R', 'R', 'R',\n",
       "       'R', 'R', 'R', 'R', 'R', 'R', 'R', 'R', 'R', 'R', 'R', 'R', 'R',\n",
       "       'R', 'R', 'R', 'R', 'R', 'R', 'R', 'R', 'R', 'R', 'R', 'R', 'R',\n",
       "       'R', 'R', 'R', 'R', 'R', 'R', 'M', 'M', 'M', 'M', 'M', 'M', 'M',\n",
       "       'M', 'M', 'M', 'M', 'M', 'M', 'M', 'M', 'M', 'M', 'M', 'M', 'M',\n",
       "       'M', 'M', 'M', 'M', 'M', 'M', 'M', 'M', 'M', 'M', 'M', 'M', 'M',\n",
       "       'M', 'M', 'M', 'M', 'M', 'M', 'M', 'M', 'M', 'M', 'M', 'M', 'M',\n",
       "       'M', 'M', 'M', 'M', 'M', 'M', 'M', 'M', 'M', 'M', 'M', 'M', 'M',\n",
       "       'M', 'M', 'M', 'M', 'M', 'M', 'M', 'M', 'M', 'M', 'M', 'M', 'M',\n",
       "       'M', 'M', 'M', 'M', 'M', 'M', 'M', 'M', 'M', 'M', 'M', 'M', 'M',\n",
       "       'M', 'M', 'M', 'M', 'M', 'M', 'M', 'M', 'M', 'M', 'M', 'M', 'M',\n",
       "       'M', 'M', 'M', 'M', 'M', 'M', 'M', 'M', 'M', 'M', 'M', 'M', 'M'],\n",
       "      dtype=object)"
      ]
     },
     "execution_count": 5,
     "metadata": {},
     "output_type": "execute_result"
    }
   ],
   "source": [
    "Y"
   ]
  },
  {
   "cell_type": "code",
   "execution_count": 6,
   "metadata": {},
   "outputs": [
    {
     "data": {
      "text/plain": [
       "LabelEncoder()"
      ]
     },
     "execution_count": 6,
     "metadata": {},
     "output_type": "execute_result"
    }
   ],
   "source": [
    "# encode class values as integers\n",
    "encoder = LabelEncoder()\n",
    "encoder.fit(Y)"
   ]
  },
  {
   "cell_type": "markdown",
   "metadata": {},
   "source": [
    "# 2) shufle dataset (pandas)\n",
    "# 3) split training (70) validation (10) and test (20) %\n",
    "# 4) Split inputs and labels (output)"
   ]
  },
  {
   "cell_type": "code",
   "execution_count": 7,
   "metadata": {},
   "outputs": [],
   "source": [
    "seed = 7\n",
    "np.random.seed(seed)"
   ]
  },
  {
   "cell_type": "code",
   "execution_count": 8,
   "metadata": {},
   "outputs": [],
   "source": [
    "X_train,X_test,y_train,y_test = train_test_split(X,\n",
    "                                                 Y,\n",
    "                                                 test_size=0.20,\n",
    "                                                 random_state=seed)"
   ]
  },
  {
   "cell_type": "code",
   "execution_count": 9,
   "metadata": {},
   "outputs": [
    {
     "data": {
      "text/plain": [
       "array([[0.0025, 0.0309, 0.0171, ..., 0.0016, 0.0028, 0.0014],\n",
       "       [0.0392, 0.0108, 0.0267, ..., 0.0044, 0.0022, 0.0014],\n",
       "       [0.0067, 0.0096, 0.0024, ..., 0.0034, 0.0051, 0.0031],\n",
       "       ...,\n",
       "       [0.0201, 0.0026, 0.0138, ..., 0.0024, 0.0057, 0.0044],\n",
       "       [0.005 , 0.0017, 0.027 , ..., 0.0063, 0.0017, 0.0028],\n",
       "       [0.0294, 0.0123, 0.0117, ..., 0.0006, 0.0081, 0.0043]])"
      ]
     },
     "execution_count": 9,
     "metadata": {},
     "output_type": "execute_result"
    }
   ],
   "source": [
    "X_train"
   ]
  },
  {
   "cell_type": "code",
   "execution_count": 10,
   "metadata": {},
   "outputs": [
    {
     "data": {
      "text/plain": [
       "array(['R', 'M', 'R', 'R', 'R', 'R', 'R', 'M', 'R', 'M', 'R', 'R', 'M',\n",
       "       'R', 'M', 'R', 'R', 'R', 'M', 'M', 'M', 'M', 'R', 'R', 'M', 'M',\n",
       "       'R', 'M', 'M', 'R', 'M', 'M', 'M', 'R', 'M', 'R', 'M', 'M', 'R',\n",
       "       'M', 'R', 'R', 'M', 'M', 'M', 'M', 'R', 'R', 'R', 'R', 'M', 'R',\n",
       "       'R', 'M', 'R', 'R', 'R', 'M', 'M', 'R', 'M', 'M', 'R', 'M', 'R',\n",
       "       'M', 'M', 'R', 'R', 'R', 'R', 'R', 'M', 'M', 'M', 'R', 'R', 'M',\n",
       "       'R', 'M', 'R', 'M', 'R', 'R', 'M', 'R', 'R', 'M', 'M', 'M', 'R',\n",
       "       'M', 'M', 'R', 'R', 'R', 'M', 'M', 'R', 'M', 'M', 'M', 'R', 'R',\n",
       "       'M', 'R', 'M', 'M', 'M', 'M', 'M', 'M', 'M', 'M', 'M', 'M', 'R',\n",
       "       'R', 'R', 'M', 'R', 'M', 'R', 'M', 'M', 'M', 'R', 'R', 'M', 'R',\n",
       "       'M', 'R', 'R', 'M', 'R', 'M', 'M', 'R', 'R', 'R', 'R', 'R', 'R',\n",
       "       'R', 'R', 'M', 'M', 'M', 'M', 'R', 'M', 'M', 'R', 'M', 'R', 'R',\n",
       "       'R', 'M', 'M', 'R', 'M', 'M', 'R', 'R', 'M', 'M'], dtype=object)"
      ]
     },
     "execution_count": 10,
     "metadata": {},
     "output_type": "execute_result"
    }
   ],
   "source": [
    "y_train"
   ]
  },
  {
   "cell_type": "markdown",
   "metadata": {},
   "source": [
    "# 5) label one hot coding"
   ]
  },
  {
   "cell_type": "code",
   "execution_count": 11,
   "metadata": {},
   "outputs": [],
   "source": [
    "y_train = encoder.transform(y_train)\n",
    "reverse_encoding_train = encoder.inverse_transform(y_train) # reversing the encoding for fun\n",
    "y_test = encoder.transform(y_test)\n",
    "reverse_encoding_test = encoder.inverse_transform(y_test) # reversing the encoding for fun"
   ]
  },
  {
   "cell_type": "code",
   "execution_count": 12,
   "metadata": {
    "scrolled": true
   },
   "outputs": [
    {
     "data": {
      "text/plain": [
       "array([1, 0, 1, 1, 1, 1, 1, 0, 1, 0, 1, 1, 0, 1, 0, 1, 1, 1, 0, 0, 0, 0,\n",
       "       1, 1, 0, 0, 1, 0, 0, 1, 0, 0, 0, 1, 0, 1, 0, 0, 1, 0, 1, 1, 0, 0,\n",
       "       0, 0, 1, 1, 1, 1, 0, 1, 1, 0, 1, 1, 1, 0, 0, 1, 0, 0, 1, 0, 1, 0,\n",
       "       0, 1, 1, 1, 1, 1, 0, 0, 0, 1, 1, 0, 1, 0, 1, 0, 1, 1, 0, 1, 1, 0,\n",
       "       0, 0, 1, 0, 0, 1, 1, 1, 0, 0, 1, 0, 0, 0, 1, 1, 0, 1, 0, 0, 0, 0,\n",
       "       0, 0, 0, 0, 0, 0, 1, 1, 1, 0, 1, 0, 1, 0, 0, 0, 1, 1, 0, 1, 0, 1,\n",
       "       1, 0, 1, 0, 0, 1, 1, 1, 1, 1, 1, 1, 1, 0, 0, 0, 0, 1, 0, 0, 1, 0,\n",
       "       1, 1, 1, 0, 0, 1, 0, 0, 1, 1, 0, 0])"
      ]
     },
     "execution_count": 12,
     "metadata": {},
     "output_type": "execute_result"
    }
   ],
   "source": [
    "y_train"
   ]
  },
  {
   "cell_type": "markdown",
   "metadata": {},
   "source": [
    "# 6) fit model without validation (compare training and testing acuracies)"
   ]
  },
  {
   "cell_type": "code",
   "execution_count": 87,
   "metadata": {
    "scrolled": true
   },
   "outputs": [
    {
     "name": "stdout",
     "output_type": "stream",
     "text": [
      "Model: \"sequential_120\"\n",
      "_________________________________________________________________\n",
      "Layer (type)                 Output Shape              Param #   \n",
      "=================================================================\n",
      "dense_293 (Dense)            (None, 90)                5490      \n",
      "_________________________________________________________________\n",
      "dense_294 (Dense)            (None, 32)                2912      \n",
      "_________________________________________________________________\n",
      "dense_295 (Dense)            (None, 1)                 33        \n",
      "=================================================================\n",
      "Total params: 8,435\n",
      "Trainable params: 8,435\n",
      "Non-trainable params: 0\n",
      "_________________________________________________________________\n"
     ]
    }
   ],
   "source": [
    " # create model, write code below\n",
    "model = Sequential()\n",
    "# model.add(Dense(60, activation ='relu', input_shape = (X_train.shape[1],))) # number of features (60) are used as vector in input shape\n",
    "# model.add(Dense(1, activation ='sigmoid'))\n",
    "#model.add(Dense(90, activation ='relu', input_shape = (X_train.shape[1],)))\n",
    "#model.add(Dense(30, activation ='relu'))\n",
    "model.add(Dense(90, activation ='relu', input_shape = (X_train.shape[1],)))\n",
    "model.add(Dense(32, activation ='relu'))\n",
    "model.add(Dense(1, activation ='sigmoid'))\n",
    "model.summary()"
   ]
  },
  {
   "cell_type": "code",
   "execution_count": 88,
   "metadata": {},
   "outputs": [],
   "source": [
    "# Compile model\n",
    "model.compile(optimizer = 'rmsprop', loss = 'binary_crossentropy', metrics = ['accuracy'])"
   ]
  },
  {
   "cell_type": "code",
   "execution_count": 89,
   "metadata": {},
   "outputs": [],
   "source": [
    "num_epochs = 50"
   ]
  },
  {
   "cell_type": "code",
   "execution_count": 90,
   "metadata": {
    "scrolled": false
   },
   "outputs": [
    {
     "name": "stdout",
     "output_type": "stream",
     "text": [
      "Epoch 1/50\n",
      "166/166 - 3s - loss: 0.6925 - acc: 0.5181\n",
      "Epoch 2/50\n",
      "166/166 - 0s - loss: 0.6543 - acc: 0.6566\n",
      "Epoch 3/50\n",
      "166/166 - 0s - loss: 0.6353 - acc: 0.6566\n",
      "Epoch 4/50\n",
      "166/166 - 0s - loss: 0.6088 - acc: 0.7349\n",
      "Epoch 5/50\n",
      "166/166 - 0s - loss: 0.6056 - acc: 0.7108\n",
      "Epoch 6/50\n",
      "166/166 - 0s - loss: 0.5845 - acc: 0.7410\n",
      "Epoch 7/50\n",
      "166/166 - 0s - loss: 0.5711 - acc: 0.7590\n",
      "Epoch 8/50\n",
      "166/166 - 0s - loss: 0.5563 - acc: 0.7590\n",
      "Epoch 9/50\n",
      "166/166 - 0s - loss: 0.5545 - acc: 0.7771\n",
      "Epoch 10/50\n",
      "166/166 - 0s - loss: 0.5370 - acc: 0.8012\n",
      "Epoch 11/50\n",
      "166/166 - 0s - loss: 0.5226 - acc: 0.7831\n",
      "Epoch 12/50\n",
      "166/166 - 0s - loss: 0.5171 - acc: 0.7590\n",
      "Epoch 13/50\n",
      "166/166 - 0s - loss: 0.4997 - acc: 0.8133\n",
      "Epoch 14/50\n",
      "166/166 - 0s - loss: 0.4984 - acc: 0.8193\n",
      "Epoch 15/50\n",
      "166/166 - 0s - loss: 0.4830 - acc: 0.8072\n",
      "Epoch 16/50\n",
      "166/166 - 0s - loss: 0.4807 - acc: 0.7892\n",
      "Epoch 17/50\n",
      "166/166 - 0s - loss: 0.4684 - acc: 0.8133\n",
      "Epoch 18/50\n",
      "166/166 - 0s - loss: 0.4569 - acc: 0.8554\n",
      "Epoch 19/50\n",
      "166/166 - 0s - loss: 0.4434 - acc: 0.8193\n",
      "Epoch 20/50\n",
      "166/166 - 0s - loss: 0.4423 - acc: 0.8133\n",
      "Epoch 21/50\n",
      "166/166 - 0s - loss: 0.4342 - acc: 0.8133\n",
      "Epoch 22/50\n",
      "166/166 - 0s - loss: 0.4313 - acc: 0.8012\n",
      "Epoch 23/50\n",
      "166/166 - 0s - loss: 0.4123 - acc: 0.8373\n",
      "Epoch 24/50\n",
      "166/166 - 0s - loss: 0.4146 - acc: 0.8313\n",
      "Epoch 25/50\n",
      "166/166 - 0s - loss: 0.4049 - acc: 0.8614\n",
      "Epoch 26/50\n",
      "166/166 - 0s - loss: 0.4022 - acc: 0.8434\n",
      "Epoch 27/50\n",
      "166/166 - 0s - loss: 0.3942 - acc: 0.8554\n",
      "Epoch 28/50\n",
      "166/166 - 0s - loss: 0.3816 - acc: 0.8554\n",
      "Epoch 29/50\n",
      "166/166 - 0s - loss: 0.3702 - acc: 0.8735\n",
      "Epoch 30/50\n",
      "166/166 - 0s - loss: 0.4061 - acc: 0.8012\n",
      "Epoch 31/50\n",
      "166/166 - 0s - loss: 0.3695 - acc: 0.8614\n",
      "Epoch 32/50\n",
      "166/166 - 0s - loss: 0.3581 - acc: 0.8675\n",
      "Epoch 33/50\n",
      "166/166 - 0s - loss: 0.3702 - acc: 0.8313\n",
      "Epoch 34/50\n",
      "166/166 - 0s - loss: 0.3540 - acc: 0.8916\n",
      "Epoch 35/50\n",
      "166/166 - 0s - loss: 0.3665 - acc: 0.8614\n",
      "Epoch 36/50\n",
      "166/166 - 0s - loss: 0.3480 - acc: 0.9036\n",
      "Epoch 37/50\n",
      "166/166 - 0s - loss: 0.3410 - acc: 0.8735\n",
      "Epoch 38/50\n",
      "166/166 - 0s - loss: 0.3453 - acc: 0.8554\n",
      "Epoch 39/50\n",
      "166/166 - 0s - loss: 0.3345 - acc: 0.8976\n",
      "Epoch 40/50\n",
      "166/166 - 0s - loss: 0.3280 - acc: 0.8735\n",
      "Epoch 41/50\n",
      "166/166 - 0s - loss: 0.3351 - acc: 0.8614\n",
      "Epoch 42/50\n",
      "166/166 - 0s - loss: 0.3241 - acc: 0.8735\n",
      "Epoch 43/50\n",
      "166/166 - 0s - loss: 0.3287 - acc: 0.8916\n",
      "Epoch 44/50\n",
      "166/166 - 0s - loss: 0.3194 - acc: 0.8916\n",
      "Epoch 45/50\n",
      "166/166 - 0s - loss: 0.3091 - acc: 0.9036\n",
      "Epoch 46/50\n",
      "166/166 - 0s - loss: 0.3168 - acc: 0.8735\n",
      "Epoch 47/50\n",
      "166/166 - 0s - loss: 0.3156 - acc: 0.8795\n",
      "Epoch 48/50\n",
      "166/166 - 0s - loss: 0.3016 - acc: 0.8916\n",
      "Epoch 49/50\n",
      "166/166 - 0s - loss: 0.2949 - acc: 0.8855\n",
      "Epoch 50/50\n",
      "166/166 - 0s - loss: 0.3288 - acc: 0.8554\n"
     ]
    }
   ],
   "source": [
    "train = model.fit(X_train, y_train, epochs = num_epochs, batch_size = 32, verbose = 2)"
   ]
  },
  {
   "cell_type": "code",
   "execution_count": 91,
   "metadata": {},
   "outputs": [
    {
     "name": "stdout",
     "output_type": "stream",
     "text": [
      "42/42 - 3s - loss: 0.3756 - acc: 0.8571\n"
     ]
    },
    {
     "data": {
      "text/plain": [
       "[0.3755775732653482, 0.85714287]"
      ]
     },
     "execution_count": 91,
     "metadata": {},
     "output_type": "execute_result"
    }
   ],
   "source": [
    "test_error_rate = model.evaluate(X_test, y_test, verbose=2)\n",
    "test_error_rate"
   ]
  },
  {
   "cell_type": "code",
   "execution_count": 92,
   "metadata": {},
   "outputs": [
    {
     "name": "stdout",
     "output_type": "stream",
     "text": [
      "acc : 85.71%\n",
      "loss : 37.56%\n"
     ]
    }
   ],
   "source": [
    "print(\n",
    "      \"{} : {:.2f}%\".format(model.metrics_names[1],\n",
    "              test_error_rate[1]*100))\n",
    "print(\n",
    "      \"{} : {:.2f}%\".format(model.metrics_names[0],\n",
    "              test_error_rate[0]*100))\n",
    "#You can run the code again to see how the model perform"
   ]
  },
  {
   "cell_type": "code",
   "execution_count": 93,
   "metadata": {},
   "outputs": [],
   "source": [
    "# # summarize history for accuracy\n",
    "# plt.plot(train.history['acc'])\n",
    "# plt.plot(train.history['val_acc'])\n",
    "# plt.title('model accuracy')\n",
    "# plt.ylabel('accuracy')\n",
    "# plt.xlabel('epoch')\n",
    "# plt.legend(['train', 'test'], loc='upper left')\n",
    "# plt.show()"
   ]
  },
  {
   "cell_type": "markdown",
   "metadata": {},
   "source": [
    "# 7) fit model wit validation (with history)"
   ]
  },
  {
   "cell_type": "code",
   "execution_count": 94,
   "metadata": {},
   "outputs": [
    {
     "name": "stdout",
     "output_type": "stream",
     "text": [
      "Train on 149 samples, validate on 17 samples\n",
      "Epoch 1/50\n",
      "149/149 - 0s - loss: 0.3153 - acc: 0.8859 - val_loss: 0.1631 - val_acc: 1.0000\n",
      "Epoch 2/50\n",
      "149/149 - 0s - loss: 0.2955 - acc: 0.8993 - val_loss: 0.1623 - val_acc: 1.0000\n",
      "Epoch 3/50\n",
      "149/149 - 0s - loss: 0.2984 - acc: 0.8993 - val_loss: 0.1593 - val_acc: 1.0000\n",
      "Epoch 4/50\n",
      "149/149 - 0s - loss: 0.2920 - acc: 0.8993 - val_loss: 0.1922 - val_acc: 0.8824\n",
      "Epoch 5/50\n",
      "149/149 - 0s - loss: 0.3167 - acc: 0.8859 - val_loss: 0.1923 - val_acc: 0.8824\n",
      "Epoch 6/50\n",
      "149/149 - 0s - loss: 0.2847 - acc: 0.8725 - val_loss: 0.2023 - val_acc: 0.8824\n",
      "Epoch 7/50\n",
      "149/149 - 0s - loss: 0.2939 - acc: 0.8926 - val_loss: 0.1663 - val_acc: 0.9412\n",
      "Epoch 8/50\n",
      "149/149 - 0s - loss: 0.2832 - acc: 0.8792 - val_loss: 0.1618 - val_acc: 1.0000\n",
      "Epoch 9/50\n",
      "149/149 - 0s - loss: 0.2865 - acc: 0.8859 - val_loss: 0.1697 - val_acc: 0.9412\n",
      "Epoch 10/50\n",
      "149/149 - 0s - loss: 0.2748 - acc: 0.9262 - val_loss: 0.1516 - val_acc: 1.0000\n",
      "Epoch 11/50\n",
      "149/149 - 0s - loss: 0.2685 - acc: 0.9060 - val_loss: 0.1503 - val_acc: 1.0000\n",
      "Epoch 12/50\n",
      "149/149 - 0s - loss: 0.2735 - acc: 0.8926 - val_loss: 0.1566 - val_acc: 1.0000\n",
      "Epoch 13/50\n",
      "149/149 - 0s - loss: 0.2659 - acc: 0.9128 - val_loss: 0.1467 - val_acc: 1.0000\n",
      "Epoch 14/50\n",
      "149/149 - 0s - loss: 0.2757 - acc: 0.8792 - val_loss: 0.1501 - val_acc: 1.0000\n",
      "Epoch 15/50\n",
      "149/149 - 0s - loss: 0.2784 - acc: 0.8859 - val_loss: 0.1818 - val_acc: 0.8824\n",
      "Epoch 16/50\n",
      "149/149 - 0s - loss: 0.2540 - acc: 0.9128 - val_loss: 0.1416 - val_acc: 1.0000\n",
      "Epoch 17/50\n",
      "149/149 - 0s - loss: 0.2674 - acc: 0.9060 - val_loss: 0.1389 - val_acc: 1.0000\n",
      "Epoch 18/50\n",
      "149/149 - 0s - loss: 0.2554 - acc: 0.8993 - val_loss: 0.1530 - val_acc: 1.0000\n",
      "Epoch 19/50\n",
      "149/149 - 0s - loss: 0.2445 - acc: 0.9128 - val_loss: 0.1663 - val_acc: 0.9412\n",
      "Epoch 20/50\n",
      "149/149 - 0s - loss: 0.2441 - acc: 0.9128 - val_loss: 0.1576 - val_acc: 0.9412\n",
      "Epoch 21/50\n",
      "149/149 - 0s - loss: 0.2379 - acc: 0.9329 - val_loss: 0.1366 - val_acc: 1.0000\n",
      "Epoch 22/50\n",
      "149/149 - 0s - loss: 0.2363 - acc: 0.9060 - val_loss: 0.1505 - val_acc: 1.0000\n",
      "Epoch 23/50\n",
      "149/149 - 0s - loss: 0.2493 - acc: 0.9128 - val_loss: 0.1749 - val_acc: 0.8824\n",
      "Epoch 24/50\n",
      "149/149 - 0s - loss: 0.2407 - acc: 0.9060 - val_loss: 0.1424 - val_acc: 1.0000\n",
      "Epoch 25/50\n",
      "149/149 - 0s - loss: 0.2359 - acc: 0.9329 - val_loss: 0.1279 - val_acc: 1.0000\n",
      "Epoch 26/50\n",
      "149/149 - 0s - loss: 0.2282 - acc: 0.9195 - val_loss: 0.1319 - val_acc: 1.0000\n",
      "Epoch 27/50\n",
      "149/149 - 0s - loss: 0.2263 - acc: 0.9128 - val_loss: 0.1462 - val_acc: 1.0000\n",
      "Epoch 28/50\n",
      "149/149 - 0s - loss: 0.2204 - acc: 0.9262 - val_loss: 0.1483 - val_acc: 1.0000\n",
      "Epoch 29/50\n",
      "149/149 - 0s - loss: 0.2632 - acc: 0.8926 - val_loss: 0.1250 - val_acc: 1.0000\n",
      "Epoch 30/50\n",
      "149/149 - 0s - loss: 0.2100 - acc: 0.9329 - val_loss: 0.1280 - val_acc: 1.0000\n",
      "Epoch 31/50\n",
      "149/149 - 0s - loss: 0.2029 - acc: 0.9329 - val_loss: 0.1127 - val_acc: 1.0000\n",
      "Epoch 32/50\n",
      "149/149 - 0s - loss: 0.2087 - acc: 0.9329 - val_loss: 0.1420 - val_acc: 1.0000\n",
      "Epoch 33/50\n",
      "149/149 - 0s - loss: 0.2004 - acc: 0.9262 - val_loss: 0.1190 - val_acc: 1.0000\n",
      "Epoch 34/50\n",
      "149/149 - 0s - loss: 0.1988 - acc: 0.9329 - val_loss: 0.1314 - val_acc: 1.0000\n",
      "Epoch 35/50\n",
      "149/149 - 0s - loss: 0.2374 - acc: 0.8792 - val_loss: 0.1541 - val_acc: 0.8824\n",
      "Epoch 36/50\n",
      "149/149 - 0s - loss: 0.1930 - acc: 0.9396 - val_loss: 0.1197 - val_acc: 1.0000\n",
      "Epoch 37/50\n",
      "149/149 - 0s - loss: 0.1854 - acc: 0.9463 - val_loss: 0.1131 - val_acc: 1.0000\n",
      "Epoch 38/50\n",
      "149/149 - 0s - loss: 0.1831 - acc: 0.9530 - val_loss: 0.1123 - val_acc: 1.0000\n",
      "Epoch 39/50\n",
      "149/149 - 0s - loss: 0.2014 - acc: 0.9329 - val_loss: 0.1278 - val_acc: 1.0000\n",
      "Epoch 40/50\n",
      "149/149 - 0s - loss: 0.1744 - acc: 0.9732 - val_loss: 0.1684 - val_acc: 0.8824\n",
      "Epoch 41/50\n",
      "149/149 - 0s - loss: 0.1889 - acc: 0.9262 - val_loss: 0.1468 - val_acc: 0.9412\n",
      "Epoch 42/50\n",
      "149/149 - 0s - loss: 0.1743 - acc: 0.9530 - val_loss: 0.1457 - val_acc: 0.9412\n",
      "Epoch 43/50\n",
      "149/149 - 0s - loss: 0.1721 - acc: 0.9530 - val_loss: 0.1322 - val_acc: 1.0000\n",
      "Epoch 44/50\n",
      "149/149 - 0s - loss: 0.1820 - acc: 0.9396 - val_loss: 0.1249 - val_acc: 1.0000\n",
      "Epoch 45/50\n",
      "149/149 - 0s - loss: 0.1707 - acc: 0.9530 - val_loss: 0.1085 - val_acc: 1.0000\n",
      "Epoch 46/50\n",
      "149/149 - 0s - loss: 0.1935 - acc: 0.9396 - val_loss: 0.1079 - val_acc: 1.0000\n",
      "Epoch 47/50\n",
      "149/149 - 0s - loss: 0.1705 - acc: 0.9396 - val_loss: 0.1079 - val_acc: 1.0000\n",
      "Epoch 48/50\n",
      "149/149 - 0s - loss: 0.1659 - acc: 0.9463 - val_loss: 0.1138 - val_acc: 1.0000\n",
      "Epoch 49/50\n",
      "149/149 - 0s - loss: 0.1751 - acc: 0.9463 - val_loss: 0.1115 - val_acc: 1.0000\n",
      "Epoch 50/50\n",
      "149/149 - 0s - loss: 0.1647 - acc: 0.9396 - val_loss: 0.1062 - val_acc: 1.0000\n"
     ]
    }
   ],
   "source": [
    "history= model.fit(X_train, y_train, epochs = num_epochs, batch_size=32, validation_split=.10, verbose = 2)"
   ]
  },
  {
   "cell_type": "code",
   "execution_count": 95,
   "metadata": {},
   "outputs": [
    {
     "name": "stdout",
     "output_type": "stream",
     "text": [
      "42/42 - 0s - loss: 0.3773 - acc: 0.8333\n"
     ]
    },
    {
     "data": {
      "text/plain": [
       "[0.37733837252571467, 0.8333333]"
      ]
     },
     "execution_count": 95,
     "metadata": {},
     "output_type": "execute_result"
    }
   ],
   "source": [
    "test_error_rate = model.evaluate(X_test, y_test, verbose=2)\n",
    "test_error_rate"
   ]
  },
  {
   "cell_type": "code",
   "execution_count": 96,
   "metadata": {},
   "outputs": [
    {
     "name": "stdout",
     "output_type": "stream",
     "text": [
      "acc : 83.33%\n",
      "loss : 37.73%\n"
     ]
    }
   ],
   "source": [
    "print(\n",
    "      \"{} : {:.2f}%\".format(model.metrics_names[1],\n",
    "              test_error_rate[1]*100))\n",
    "print(\n",
    "      \"{} : {:.2f}%\".format(model.metrics_names[0],\n",
    "              test_error_rate[0]*100))\n",
    "#You can run the code again to see how the model perform"
   ]
  },
  {
   "cell_type": "code",
   "execution_count": 97,
   "metadata": {},
   "outputs": [
    {
     "data": {
      "image/png": "[encoded data removed]",
      "text/plain": [
       "<Figure size 432x288 with 1 Axes>"
      ]
     },
     "metadata": {
      "needs_background": "light"
     },
     "output_type": "display_data"
    }
   ],
   "source": [
    "# # summarize history for accuracy\n",
    "plt.plot(history.history['acc'])\n",
    "plt.plot(history.history['val_acc'])\n",
    "plt.title('model accuracy')\n",
    "plt.ylabel('accuracy')\n",
    "plt.xlabel('epoch')\n",
    "plt.legend(['train', 'test'], loc='upper left')\n",
    "plt.show()"
   ]
  },
  {
   "cell_type": "markdown",
   "metadata": {},
   "source": [
    "# 9) Introduce k-fold, as data is limited"
   ]
  },
  {
   "cell_type": "code",
   "execution_count": 82,
   "metadata": {},
   "outputs": [],
   "source": [
    "def create_baseline():\n",
    "  # create model, write code below\n",
    "  model = Sequential()\n",
    "  #model.add(Dense(60, activation ='relu', input_shape = (X_train.shape[1],))) # number of features (60) are used as vector in input shape\n",
    "  #model.add(Dense(1, activation ='sigmoid'))\n",
    "  model.add(Dense(90, activation ='relu', input_shape = (X_train.shape[1],)))\n",
    "  #model.add(Dense(30, activation ='relu', input_shape = (X_train.shape[1],)))\n",
    "\n",
    "  model.add(Dense(32, activation ='relu'))\n",
    "  model.add(Dense(1, activation ='sigmoid'))\n",
    "  # Compile model, write code below\n",
    "  model.compile(optimizer = 'rmsprop', loss = 'binary_crossentropy', metrics = ['accuracy'])\n",
    "  return model\n",
    " "
   ]
  },
  {
   "cell_type": "code",
   "execution_count": 83,
   "metadata": {
    "scrolled": true
   },
   "outputs": [
    {
     "name": "stdout",
     "output_type": "stream",
     "text": [
      "Epoch 1/25\n",
      "160/160 - 5s - loss: 0.7414 - acc: 0.3812\n",
      "Epoch 2/25\n",
      "160/160 - 0s - loss: 0.7095 - acc: 0.5063\n",
      "Epoch 3/25\n",
      "160/160 - 0s - loss: 0.6937 - acc: 0.5125\n",
      "Epoch 4/25\n",
      "160/160 - 0s - loss: 0.6812 - acc: 0.6125\n",
      "Epoch 5/25\n",
      "160/160 - 0s - loss: 0.6674 - acc: 0.6687\n",
      "Epoch 6/25\n",
      "160/160 - 0s - loss: 0.6521 - acc: 0.6750\n",
      "Epoch 7/25\n",
      "160/160 - 0s - loss: 0.6367 - acc: 0.6812\n",
      "Epoch 8/25\n",
      "160/160 - 0s - loss: 0.6164 - acc: 0.6875\n",
      "Epoch 9/25\n",
      "160/160 - 0s - loss: 0.6027 - acc: 0.7937\n",
      "Epoch 10/25\n",
      "160/160 - 0s - loss: 0.5844 - acc: 0.7750\n",
      "Epoch 11/25\n",
      "160/160 - 0s - loss: 0.5683 - acc: 0.7312\n",
      "Epoch 12/25\n",
      "160/160 - 0s - loss: 0.5507 - acc: 0.8313\n",
      "Epoch 13/25\n",
      "160/160 - 0s - loss: 0.5346 - acc: 0.8188\n",
      "Epoch 14/25\n",
      "160/160 - 0s - loss: 0.5210 - acc: 0.8250\n",
      "Epoch 15/25\n",
      "160/160 - 0s - loss: 0.5105 - acc: 0.8000\n",
      "Epoch 16/25\n",
      "160/160 - 0s - loss: 0.4917 - acc: 0.8188\n",
      "Epoch 17/25\n",
      "160/160 - 0s - loss: 0.4782 - acc: 0.8250\n",
      "Epoch 18/25\n",
      "160/160 - 0s - loss: 0.4626 - acc: 0.8375\n",
      "Epoch 19/25\n",
      "160/160 - 0s - loss: 0.4528 - acc: 0.8438\n",
      "Epoch 20/25\n",
      "160/160 - 0s - loss: 0.4401 - acc: 0.8375\n",
      "Epoch 21/25\n",
      "160/160 - 0s - loss: 0.4359 - acc: 0.8562\n",
      "Epoch 22/25\n",
      "160/160 - 0s - loss: 0.4205 - acc: 0.8375\n",
      "Epoch 23/25\n",
      "160/160 - 0s - loss: 0.4106 - acc: 0.8500\n",
      "Epoch 24/25\n",
      "160/160 - 0s - loss: 0.4044 - acc: 0.8750\n",
      "Epoch 25/25\n",
      "160/160 - 0s - loss: 0.3938 - acc: 0.8313\n",
      "6/6 - 3s - loss: 0.2348 - acc: 1.0000\n",
      "Epoch 1/25\n",
      "160/160 - 3s - loss: 0.7006 - acc: 0.4875\n",
      "Epoch 2/25\n",
      "160/160 - 0s - loss: 0.6794 - acc: 0.5562\n",
      "Epoch 3/25\n",
      "160/160 - 0s - loss: 0.6632 - acc: 0.7063\n",
      "Epoch 4/25\n",
      "160/160 - 0s - loss: 0.6493 - acc: 0.7375\n",
      "Epoch 5/25\n",
      "160/160 - 0s - loss: 0.6320 - acc: 0.7500\n",
      "Epoch 6/25\n",
      "160/160 - 0s - loss: 0.6163 - acc: 0.7875\n",
      "Epoch 7/25\n",
      "160/160 - 0s - loss: 0.5998 - acc: 0.8000\n",
      "Epoch 8/25\n",
      "160/160 - 0s - loss: 0.5837 - acc: 0.8062\n",
      "Epoch 9/25\n",
      "160/160 - 0s - loss: 0.5667 - acc: 0.8000\n",
      "Epoch 10/25\n",
      "160/160 - 0s - loss: 0.5502 - acc: 0.7937\n",
      "Epoch 11/25\n",
      "160/160 - 0s - loss: 0.5314 - acc: 0.8188\n",
      "Epoch 12/25\n",
      "160/160 - 0s - loss: 0.5153 - acc: 0.8062\n",
      "Epoch 13/25\n",
      "160/160 - 0s - loss: 0.4985 - acc: 0.8313\n",
      "Epoch 14/25\n",
      "160/160 - 0s - loss: 0.4841 - acc: 0.8375\n",
      "Epoch 15/25\n",
      "160/160 - 0s - loss: 0.4706 - acc: 0.8250\n",
      "Epoch 16/25\n",
      "160/160 - 0s - loss: 0.4594 - acc: 0.8188\n",
      "Epoch 17/25\n",
      "160/160 - 0s - loss: 0.4431 - acc: 0.8375\n",
      "Epoch 18/25\n",
      "160/160 - 0s - loss: 0.4301 - acc: 0.8500\n",
      "Epoch 19/25\n",
      "160/160 - 0s - loss: 0.4346 - acc: 0.8438\n",
      "Epoch 20/25\n",
      "160/160 - 0s - loss: 0.4141 - acc: 0.8625\n",
      "Epoch 21/25\n",
      "160/160 - 0s - loss: 0.4042 - acc: 0.8188\n",
      "Epoch 22/25\n",
      "160/160 - 0s - loss: 0.3964 - acc: 0.8625\n",
      "Epoch 23/25\n",
      "160/160 - 0s - loss: 0.3815 - acc: 0.8875\n",
      "Epoch 24/25\n",
      "160/160 - 0s - loss: 0.3762 - acc: 0.8250\n",
      "Epoch 25/25\n",
      "160/160 - 0s - loss: 0.3678 - acc: 0.8687\n",
      "6/6 - 3s - loss: 0.4341 - acc: 0.6667\n",
      "Epoch 1/25\n",
      "160/160 - 3s - loss: 0.6756 - acc: 0.5500\n",
      "Epoch 2/25\n",
      "160/160 - 0s - loss: 0.6555 - acc: 0.6062\n",
      "Epoch 3/25\n",
      "160/160 - 0s - loss: 0.6397 - acc: 0.6375\n",
      "Epoch 4/25\n",
      "160/160 - 0s - loss: 0.6248 - acc: 0.6875\n",
      "Epoch 5/25\n",
      "160/160 - 0s - loss: 0.6136 - acc: 0.7125\n",
      "Epoch 6/25\n",
      "160/160 - 0s - loss: 0.5949 - acc: 0.7312\n",
      "Epoch 7/25\n",
      "160/160 - 0s - loss: 0.5792 - acc: 0.7312\n",
      "Epoch 8/25\n",
      "160/160 - 0s - loss: 0.5659 - acc: 0.7437\n",
      "Epoch 9/25\n",
      "160/160 - 0s - loss: 0.5527 - acc: 0.7688\n",
      "Epoch 10/25\n",
      "160/160 - 0s - loss: 0.5371 - acc: 0.7875\n",
      "Epoch 11/25\n",
      "160/160 - 0s - loss: 0.5202 - acc: 0.7750\n",
      "Epoch 12/25\n",
      "160/160 - 0s - loss: 0.5106 - acc: 0.8000\n",
      "Epoch 13/25\n",
      "160/160 - 0s - loss: 0.5012 - acc: 0.7750\n",
      "Epoch 14/25\n",
      "160/160 - 0s - loss: 0.4836 - acc: 0.8062\n",
      "Epoch 15/25\n",
      "160/160 - 0s - loss: 0.4702 - acc: 0.8250\n",
      "Epoch 16/25\n",
      "160/160 - 0s - loss: 0.4603 - acc: 0.7500\n",
      "Epoch 17/25\n",
      "160/160 - 0s - loss: 0.4469 - acc: 0.8000\n",
      "Epoch 18/25\n",
      "160/160 - 0s - loss: 0.4335 - acc: 0.8438\n",
      "Epoch 19/25\n",
      "160/160 - 0s - loss: 0.4296 - acc: 0.8375\n",
      "Epoch 20/25\n",
      "160/160 - 0s - loss: 0.4212 - acc: 0.8062\n",
      "Epoch 21/25\n",
      "160/160 - 0s - loss: 0.4055 - acc: 0.8562\n",
      "Epoch 22/25\n",
      "160/160 - 0s - loss: 0.4092 - acc: 0.8250\n",
      "Epoch 23/25\n",
      "160/160 - 0s - loss: 0.3921 - acc: 0.8375\n",
      "Epoch 24/25\n",
      "160/160 - 0s - loss: 0.3876 - acc: 0.8500\n",
      "Epoch 25/25\n",
      "160/160 - 0s - loss: 0.3756 - acc: 0.8625\n",
      "6/6 - 2s - loss: 0.2624 - acc: 1.0000\n",
      "Epoch 1/25\n",
      "160/160 - 3s - loss: 0.6860 - acc: 0.5500\n",
      "Epoch 2/25\n",
      "160/160 - 0s - loss: 0.6635 - acc: 0.6250\n",
      "Epoch 3/25\n",
      "160/160 - 0s - loss: 0.6469 - acc: 0.6687\n",
      "Epoch 4/25\n",
      "160/160 - 0s - loss: 0.6330 - acc: 0.7500\n",
      "Epoch 5/25\n",
      "160/160 - 0s - loss: 0.6187 - acc: 0.7750\n",
      "Epoch 6/25\n",
      "160/160 - 0s - loss: 0.6052 - acc: 0.7437\n",
      "Epoch 7/25\n",
      "160/160 - 0s - loss: 0.5917 - acc: 0.7500\n",
      "Epoch 8/25\n",
      "160/160 - 0s - loss: 0.5766 - acc: 0.7625\n",
      "Epoch 9/25\n",
      "160/160 - 0s - loss: 0.5621 - acc: 0.7875\n",
      "Epoch 10/25\n",
      "160/160 - 0s - loss: 0.5483 - acc: 0.8125\n",
      "Epoch 11/25\n",
      "160/160 - 0s - loss: 0.5324 - acc: 0.8125\n",
      "Epoch 12/25\n",
      "160/160 - 0s - loss: 0.5181 - acc: 0.8375\n",
      "Epoch 13/25\n",
      "160/160 - 0s - loss: 0.5019 - acc: 0.8313\n",
      "Epoch 14/25\n",
      "160/160 - 0s - loss: 0.4906 - acc: 0.8375\n",
      "Epoch 15/25\n",
      "160/160 - 0s - loss: 0.4718 - acc: 0.8375\n",
      "Epoch 16/25\n",
      "160/160 - 0s - loss: 0.4598 - acc: 0.8438\n",
      "Epoch 17/25\n",
      "160/160 - 0s - loss: 0.4496 - acc: 0.8313\n",
      "Epoch 18/25\n",
      "160/160 - 0s - loss: 0.4346 - acc: 0.8375\n",
      "Epoch 19/25\n",
      "160/160 - 0s - loss: 0.4241 - acc: 0.8250\n",
      "Epoch 20/25\n",
      "160/160 - 0s - loss: 0.4127 - acc: 0.8375\n",
      "Epoch 21/25\n",
      "160/160 - 0s - loss: 0.4018 - acc: 0.8438\n",
      "Epoch 22/25\n",
      "160/160 - 0s - loss: 0.3906 - acc: 0.8500\n",
      "Epoch 23/25\n",
      "160/160 - 0s - loss: 0.3822 - acc: 0.8500\n",
      "Epoch 24/25\n",
      "160/160 - 0s - loss: 0.3738 - acc: 0.8562\n",
      "Epoch 25/25\n",
      "160/160 - 0s - loss: 0.3668 - acc: 0.8625\n",
      "6/6 - 2s - loss: 0.2588 - acc: 1.0000\n",
      "Epoch 1/25\n",
      "160/160 - 3s - loss: 0.6936 - acc: 0.4750\n",
      "Epoch 2/25\n",
      "160/160 - 0s - loss: 0.6754 - acc: 0.6313\n",
      "Epoch 3/25\n",
      "160/160 - 0s - loss: 0.6637 - acc: 0.6812\n",
      "Epoch 4/25\n",
      "160/160 - 0s - loss: 0.6503 - acc: 0.7125\n",
      "Epoch 5/25\n",
      "160/160 - 0s - loss: 0.6356 - acc: 0.7437\n",
      "Epoch 6/25\n",
      "160/160 - 0s - loss: 0.6206 - acc: 0.7250\n",
      "Epoch 7/25\n",
      "160/160 - 0s - loss: 0.6065 - acc: 0.7312\n",
      "Epoch 8/25\n",
      "160/160 - 0s - loss: 0.5938 - acc: 0.7688\n",
      "Epoch 9/25\n",
      "160/160 - 0s - loss: 0.5775 - acc: 0.7937\n",
      "Epoch 10/25\n",
      "160/160 - 0s - loss: 0.5601 - acc: 0.7688\n",
      "Epoch 11/25\n",
      "160/160 - 0s - loss: 0.5463 - acc: 0.7688\n",
      "Epoch 12/25\n",
      "160/160 - 0s - loss: 0.5292 - acc: 0.8062\n",
      "Epoch 13/25\n",
      "160/160 - 0s - loss: 0.5150 - acc: 0.8313\n",
      "Epoch 14/25\n",
      "160/160 - 0s - loss: 0.4987 - acc: 0.8438\n",
      "Epoch 15/25\n",
      "160/160 - 0s - loss: 0.4859 - acc: 0.8125\n",
      "Epoch 16/25\n",
      "160/160 - 0s - loss: 0.4694 - acc: 0.8375\n",
      "Epoch 17/25\n",
      "160/160 - 0s - loss: 0.4603 - acc: 0.8313\n",
      "Epoch 18/25\n",
      "160/160 - 0s - loss: 0.4466 - acc: 0.8438\n",
      "Epoch 19/25\n",
      "160/160 - 0s - loss: 0.4400 - acc: 0.8250\n",
      "Epoch 20/25\n",
      "160/160 - 0s - loss: 0.4278 - acc: 0.8438\n",
      "Epoch 21/25\n",
      "160/160 - 0s - loss: 0.4198 - acc: 0.8188\n",
      "Epoch 22/25\n",
      "160/160 - 0s - loss: 0.4137 - acc: 0.8313\n",
      "Epoch 23/25\n",
      "160/160 - 0s - loss: 0.4000 - acc: 0.8625\n",
      "Epoch 24/25\n",
      "160/160 - 0s - loss: 0.3938 - acc: 0.8313\n",
      "Epoch 25/25\n",
      "160/160 - 0s - loss: 0.3823 - acc: 0.8375\n",
      "6/6 - 3s - loss: 0.5431 - acc: 0.6667\n",
      "Epoch 1/25\n"
     ]
    },
    {
     "ename": "KeyboardInterrupt",
     "evalue": "",
     "output_type": "error",
     "traceback": [
      "\u001b[1;31m---------------------------------------------------------------------------\u001b[0m",
      "\u001b[1;31mKeyboardInterrupt\u001b[0m                         Traceback (most recent call last)",
      "\u001b[1;32m<ipython-input-83-f0bf30463efe>\u001b[0m in \u001b[0;36m<module>\u001b[1;34m\u001b[0m\n\u001b[0;32m      1\u001b[0m \u001b[0mestimator\u001b[0m \u001b[1;33m=\u001b[0m \u001b[0mKerasClassifier\u001b[0m\u001b[1;33m(\u001b[0m\u001b[0mbuild_fn\u001b[0m\u001b[1;33m=\u001b[0m\u001b[0mcreate_baseline\u001b[0m\u001b[1;33m,\u001b[0m \u001b[0mepochs\u001b[0m\u001b[1;33m=\u001b[0m\u001b[1;36m25\u001b[0m\u001b[1;33m,\u001b[0m \u001b[0mbatch_size\u001b[0m\u001b[1;33m=\u001b[0m\u001b[1;36m32\u001b[0m\u001b[1;33m,\u001b[0m \u001b[0mverbose\u001b[0m\u001b[1;33m=\u001b[0m\u001b[1;36m2\u001b[0m\u001b[1;33m)\u001b[0m\u001b[1;33m\u001b[0m\u001b[1;33m\u001b[0m\u001b[0m\n\u001b[0;32m      2\u001b[0m \u001b[0mkfold\u001b[0m \u001b[1;33m=\u001b[0m \u001b[0mStratifiedKFold\u001b[0m\u001b[1;33m(\u001b[0m\u001b[0mn_splits\u001b[0m\u001b[1;33m=\u001b[0m\u001b[1;36m30\u001b[0m\u001b[1;33m,\u001b[0m \u001b[0mshuffle\u001b[0m\u001b[1;33m=\u001b[0m\u001b[1;32mTrue\u001b[0m\u001b[1;33m,\u001b[0m \u001b[0mrandom_state\u001b[0m\u001b[1;33m=\u001b[0m\u001b[0mseed\u001b[0m\u001b[1;33m)\u001b[0m\u001b[1;33m\u001b[0m\u001b[1;33m\u001b[0m\u001b[0m\n\u001b[1;32m----> 3\u001b[1;33m \u001b[0mresults\u001b[0m \u001b[1;33m=\u001b[0m \u001b[0mcross_val_score\u001b[0m\u001b[1;33m(\u001b[0m\u001b[0mestimator\u001b[0m\u001b[1;33m,\u001b[0m \u001b[0mX_train\u001b[0m\u001b[1;33m,\u001b[0m \u001b[0my_train\u001b[0m\u001b[1;33m,\u001b[0m \u001b[0mcv\u001b[0m\u001b[1;33m=\u001b[0m\u001b[0mkfold\u001b[0m\u001b[1;33m)\u001b[0m\u001b[1;33m\u001b[0m\u001b[1;33m\u001b[0m\u001b[0m\n\u001b[0m\u001b[0;32m      4\u001b[0m \u001b[0mprint\u001b[0m\u001b[1;33m(\u001b[0m\u001b[1;34m\"Results: %.2f%% (%.2f%%)\"\u001b[0m \u001b[1;33m%\u001b[0m \u001b[1;33m(\u001b[0m\u001b[0mresults\u001b[0m\u001b[1;33m.\u001b[0m\u001b[0mmean\u001b[0m\u001b[1;33m(\u001b[0m\u001b[1;33m)\u001b[0m\u001b[1;33m*\u001b[0m\u001b[1;36m100\u001b[0m\u001b[1;33m,\u001b[0m \u001b[0mresults\u001b[0m\u001b[1;33m.\u001b[0m\u001b[0mstd\u001b[0m\u001b[1;33m(\u001b[0m\u001b[1;33m)\u001b[0m\u001b[1;33m*\u001b[0m\u001b[1;36m100\u001b[0m\u001b[1;33m)\u001b[0m\u001b[1;33m)\u001b[0m\u001b[1;33m\u001b[0m\u001b[1;33m\u001b[0m\u001b[0m\n",
      "\u001b[1;32mC:\\Program Files\\Anaconda\\lib\\site-packages\\sklearn\\model_selection\\_validation.py\u001b[0m in \u001b[0;36mcross_val_score\u001b[1;34m(estimator, X, y, groups, scoring, cv, n_jobs, verbose, fit_params, pre_dispatch, error_score)\u001b[0m\n\u001b[0;32m    400\u001b[0m                                 \u001b[0mfit_params\u001b[0m\u001b[1;33m=\u001b[0m\u001b[0mfit_params\u001b[0m\u001b[1;33m,\u001b[0m\u001b[1;33m\u001b[0m\u001b[1;33m\u001b[0m\u001b[0m\n\u001b[0;32m    401\u001b[0m                                 \u001b[0mpre_dispatch\u001b[0m\u001b[1;33m=\u001b[0m\u001b[0mpre_dispatch\u001b[0m\u001b[1;33m,\u001b[0m\u001b[1;33m\u001b[0m\u001b[1;33m\u001b[0m\u001b[0m\n\u001b[1;32m--> 402\u001b[1;33m                                 error_score=error_score)\n\u001b[0m\u001b[0;32m    403\u001b[0m     \u001b[1;32mreturn\u001b[0m \u001b[0mcv_results\u001b[0m\u001b[1;33m[\u001b[0m\u001b[1;34m'test_score'\u001b[0m\u001b[1;33m]\u001b[0m\u001b[1;33m\u001b[0m\u001b[1;33m\u001b[0m\u001b[0m\n\u001b[0;32m    404\u001b[0m \u001b[1;33m\u001b[0m\u001b[0m\n",
      "\u001b[1;32mC:\\Program Files\\Anaconda\\lib\\site-packages\\sklearn\\model_selection\\_validation.py\u001b[0m in \u001b[0;36mcross_validate\u001b[1;34m(estimator, X, y, groups, scoring, cv, n_jobs, verbose, fit_params, pre_dispatch, return_train_score, return_estimator, error_score)\u001b[0m\n\u001b[0;32m    238\u001b[0m             \u001b[0mreturn_times\u001b[0m\u001b[1;33m=\u001b[0m\u001b[1;32mTrue\u001b[0m\u001b[1;33m,\u001b[0m \u001b[0mreturn_estimator\u001b[0m\u001b[1;33m=\u001b[0m\u001b[0mreturn_estimator\u001b[0m\u001b[1;33m,\u001b[0m\u001b[1;33m\u001b[0m\u001b[1;33m\u001b[0m\u001b[0m\n\u001b[0;32m    239\u001b[0m             error_score=error_score)\n\u001b[1;32m--> 240\u001b[1;33m         for train, test in cv.split(X, y, groups))\n\u001b[0m\u001b[0;32m    241\u001b[0m \u001b[1;33m\u001b[0m\u001b[0m\n\u001b[0;32m    242\u001b[0m     \u001b[0mzipped_scores\u001b[0m \u001b[1;33m=\u001b[0m \u001b[0mlist\u001b[0m\u001b[1;33m(\u001b[0m\u001b[0mzip\u001b[0m\u001b[1;33m(\u001b[0m\u001b[1;33m*\u001b[0m\u001b[0mscores\u001b[0m\u001b[1;33m)\u001b[0m\u001b[1;33m)\u001b[0m\u001b[1;33m\u001b[0m\u001b[1;33m\u001b[0m\u001b[0m\n",
      "\u001b[1;32mC:\\Program Files\\Anaconda\\lib\\site-packages\\sklearn\\externals\\joblib\\parallel.py\u001b[0m in \u001b[0;36m__call__\u001b[1;34m(self, iterable)\u001b[0m\n\u001b[0;32m    918\u001b[0m                 \u001b[0mself\u001b[0m\u001b[1;33m.\u001b[0m\u001b[0m_iterating\u001b[0m \u001b[1;33m=\u001b[0m \u001b[0mself\u001b[0m\u001b[1;33m.\u001b[0m\u001b[0m_original_iterator\u001b[0m \u001b[1;32mis\u001b[0m \u001b[1;32mnot\u001b[0m \u001b[1;32mNone\u001b[0m\u001b[1;33m\u001b[0m\u001b[1;33m\u001b[0m\u001b[0m\n\u001b[0;32m    919\u001b[0m \u001b[1;33m\u001b[0m\u001b[0m\n\u001b[1;32m--> 920\u001b[1;33m             \u001b[1;32mwhile\u001b[0m \u001b[0mself\u001b[0m\u001b[1;33m.\u001b[0m\u001b[0mdispatch_one_batch\u001b[0m\u001b[1;33m(\u001b[0m\u001b[0miterator\u001b[0m\u001b[1;33m)\u001b[0m\u001b[1;33m:\u001b[0m\u001b[1;33m\u001b[0m\u001b[1;33m\u001b[0m\u001b[0m\n\u001b[0m\u001b[0;32m    921\u001b[0m                 \u001b[1;32mpass\u001b[0m\u001b[1;33m\u001b[0m\u001b[1;33m\u001b[0m\u001b[0m\n\u001b[0;32m    922\u001b[0m \u001b[1;33m\u001b[0m\u001b[0m\n",
      "\u001b[1;32mC:\\Program Files\\Anaconda\\lib\\site-packages\\sklearn\\externals\\joblib\\parallel.py\u001b[0m in \u001b[0;36mdispatch_one_batch\u001b[1;34m(self, iterator)\u001b[0m\n\u001b[0;32m    757\u001b[0m                 \u001b[1;32mreturn\u001b[0m \u001b[1;32mFalse\u001b[0m\u001b[1;33m\u001b[0m\u001b[1;33m\u001b[0m\u001b[0m\n\u001b[0;32m    758\u001b[0m             \u001b[1;32melse\u001b[0m\u001b[1;33m:\u001b[0m\u001b[1;33m\u001b[0m\u001b[1;33m\u001b[0m\u001b[0m\n\u001b[1;32m--> 759\u001b[1;33m                 \u001b[0mself\u001b[0m\u001b[1;33m.\u001b[0m\u001b[0m_dispatch\u001b[0m\u001b[1;33m(\u001b[0m\u001b[0mtasks\u001b[0m\u001b[1;33m)\u001b[0m\u001b[1;33m\u001b[0m\u001b[1;33m\u001b[0m\u001b[0m\n\u001b[0m\u001b[0;32m    760\u001b[0m                 \u001b[1;32mreturn\u001b[0m \u001b[1;32mTrue\u001b[0m\u001b[1;33m\u001b[0m\u001b[1;33m\u001b[0m\u001b[0m\n\u001b[0;32m    761\u001b[0m \u001b[1;33m\u001b[0m\u001b[0m\n",
      "\u001b[1;32mC:\\Program Files\\Anaconda\\lib\\site-packages\\sklearn\\externals\\joblib\\parallel.py\u001b[0m in \u001b[0;36m_dispatch\u001b[1;34m(self, batch)\u001b[0m\n\u001b[0;32m    714\u001b[0m         \u001b[1;32mwith\u001b[0m \u001b[0mself\u001b[0m\u001b[1;33m.\u001b[0m\u001b[0m_lock\u001b[0m\u001b[1;33m:\u001b[0m\u001b[1;33m\u001b[0m\u001b[1;33m\u001b[0m\u001b[0m\n\u001b[0;32m    715\u001b[0m             \u001b[0mjob_idx\u001b[0m \u001b[1;33m=\u001b[0m \u001b[0mlen\u001b[0m\u001b[1;33m(\u001b[0m\u001b[0mself\u001b[0m\u001b[1;33m.\u001b[0m\u001b[0m_jobs\u001b[0m\u001b[1;33m)\u001b[0m\u001b[1;33m\u001b[0m\u001b[1;33m\u001b[0m\u001b[0m\n\u001b[1;32m--> 716\u001b[1;33m             \u001b[0mjob\u001b[0m \u001b[1;33m=\u001b[0m \u001b[0mself\u001b[0m\u001b[1;33m.\u001b[0m\u001b[0m_backend\u001b[0m\u001b[1;33m.\u001b[0m\u001b[0mapply_async\u001b[0m\u001b[1;33m(\u001b[0m\u001b[0mbatch\u001b[0m\u001b[1;33m,\u001b[0m \u001b[0mcallback\u001b[0m\u001b[1;33m=\u001b[0m\u001b[0mcb\u001b[0m\u001b[1;33m)\u001b[0m\u001b[1;33m\u001b[0m\u001b[1;33m\u001b[0m\u001b[0m\n\u001b[0m\u001b[0;32m    717\u001b[0m             \u001b[1;31m# A job can complete so quickly than its callback is\u001b[0m\u001b[1;33m\u001b[0m\u001b[1;33m\u001b[0m\u001b[1;33m\u001b[0m\u001b[0m\n\u001b[0;32m    718\u001b[0m             \u001b[1;31m# called before we get here, causing self._jobs to\u001b[0m\u001b[1;33m\u001b[0m\u001b[1;33m\u001b[0m\u001b[1;33m\u001b[0m\u001b[0m\n",
      "\u001b[1;32mC:\\Program Files\\Anaconda\\lib\\site-packages\\sklearn\\externals\\joblib\\_parallel_backends.py\u001b[0m in \u001b[0;36mapply_async\u001b[1;34m(self, func, callback)\u001b[0m\n\u001b[0;32m    180\u001b[0m     \u001b[1;32mdef\u001b[0m \u001b[0mapply_async\u001b[0m\u001b[1;33m(\u001b[0m\u001b[0mself\u001b[0m\u001b[1;33m,\u001b[0m \u001b[0mfunc\u001b[0m\u001b[1;33m,\u001b[0m \u001b[0mcallback\u001b[0m\u001b[1;33m=\u001b[0m\u001b[1;32mNone\u001b[0m\u001b[1;33m)\u001b[0m\u001b[1;33m:\u001b[0m\u001b[1;33m\u001b[0m\u001b[1;33m\u001b[0m\u001b[0m\n\u001b[0;32m    181\u001b[0m         \u001b[1;34m\"\"\"Schedule a func to be run\"\"\"\u001b[0m\u001b[1;33m\u001b[0m\u001b[1;33m\u001b[0m\u001b[0m\n\u001b[1;32m--> 182\u001b[1;33m         \u001b[0mresult\u001b[0m \u001b[1;33m=\u001b[0m \u001b[0mImmediateResult\u001b[0m\u001b[1;33m(\u001b[0m\u001b[0mfunc\u001b[0m\u001b[1;33m)\u001b[0m\u001b[1;33m\u001b[0m\u001b[1;33m\u001b[0m\u001b[0m\n\u001b[0m\u001b[0;32m    183\u001b[0m         \u001b[1;32mif\u001b[0m \u001b[0mcallback\u001b[0m\u001b[1;33m:\u001b[0m\u001b[1;33m\u001b[0m\u001b[1;33m\u001b[0m\u001b[0m\n\u001b[0;32m    184\u001b[0m             \u001b[0mcallback\u001b[0m\u001b[1;33m(\u001b[0m\u001b[0mresult\u001b[0m\u001b[1;33m)\u001b[0m\u001b[1;33m\u001b[0m\u001b[1;33m\u001b[0m\u001b[0m\n",
      "\u001b[1;32mC:\\Program Files\\Anaconda\\lib\\site-packages\\sklearn\\externals\\joblib\\_parallel_backends.py\u001b[0m in \u001b[0;36m__init__\u001b[1;34m(self, batch)\u001b[0m\n\u001b[0;32m    547\u001b[0m         \u001b[1;31m# Don't delay the application, to avoid keeping the input\u001b[0m\u001b[1;33m\u001b[0m\u001b[1;33m\u001b[0m\u001b[1;33m\u001b[0m\u001b[0m\n\u001b[0;32m    548\u001b[0m         \u001b[1;31m# arguments in memory\u001b[0m\u001b[1;33m\u001b[0m\u001b[1;33m\u001b[0m\u001b[1;33m\u001b[0m\u001b[0m\n\u001b[1;32m--> 549\u001b[1;33m         \u001b[0mself\u001b[0m\u001b[1;33m.\u001b[0m\u001b[0mresults\u001b[0m \u001b[1;33m=\u001b[0m \u001b[0mbatch\u001b[0m\u001b[1;33m(\u001b[0m\u001b[1;33m)\u001b[0m\u001b[1;33m\u001b[0m\u001b[1;33m\u001b[0m\u001b[0m\n\u001b[0m\u001b[0;32m    550\u001b[0m \u001b[1;33m\u001b[0m\u001b[0m\n\u001b[0;32m    551\u001b[0m     \u001b[1;32mdef\u001b[0m \u001b[0mget\u001b[0m\u001b[1;33m(\u001b[0m\u001b[0mself\u001b[0m\u001b[1;33m)\u001b[0m\u001b[1;33m:\u001b[0m\u001b[1;33m\u001b[0m\u001b[1;33m\u001b[0m\u001b[0m\n",
      "\u001b[1;32mC:\\Program Files\\Anaconda\\lib\\site-packages\\sklearn\\externals\\joblib\\parallel.py\u001b[0m in \u001b[0;36m__call__\u001b[1;34m(self)\u001b[0m\n\u001b[0;32m    223\u001b[0m         \u001b[1;32mwith\u001b[0m \u001b[0mparallel_backend\u001b[0m\u001b[1;33m(\u001b[0m\u001b[0mself\u001b[0m\u001b[1;33m.\u001b[0m\u001b[0m_backend\u001b[0m\u001b[1;33m,\u001b[0m \u001b[0mn_jobs\u001b[0m\u001b[1;33m=\u001b[0m\u001b[0mself\u001b[0m\u001b[1;33m.\u001b[0m\u001b[0m_n_jobs\u001b[0m\u001b[1;33m)\u001b[0m\u001b[1;33m:\u001b[0m\u001b[1;33m\u001b[0m\u001b[1;33m\u001b[0m\u001b[0m\n\u001b[0;32m    224\u001b[0m             return [func(*args, **kwargs)\n\u001b[1;32m--> 225\u001b[1;33m                     for func, args, kwargs in self.items]\n\u001b[0m\u001b[0;32m    226\u001b[0m \u001b[1;33m\u001b[0m\u001b[0m\n\u001b[0;32m    227\u001b[0m     \u001b[1;32mdef\u001b[0m \u001b[0m__len__\u001b[0m\u001b[1;33m(\u001b[0m\u001b[0mself\u001b[0m\u001b[1;33m)\u001b[0m\u001b[1;33m:\u001b[0m\u001b[1;33m\u001b[0m\u001b[1;33m\u001b[0m\u001b[0m\n",
      "\u001b[1;32mC:\\Program Files\\Anaconda\\lib\\site-packages\\sklearn\\externals\\joblib\\parallel.py\u001b[0m in \u001b[0;36m<listcomp>\u001b[1;34m(.0)\u001b[0m\n\u001b[0;32m    223\u001b[0m         \u001b[1;32mwith\u001b[0m \u001b[0mparallel_backend\u001b[0m\u001b[1;33m(\u001b[0m\u001b[0mself\u001b[0m\u001b[1;33m.\u001b[0m\u001b[0m_backend\u001b[0m\u001b[1;33m,\u001b[0m \u001b[0mn_jobs\u001b[0m\u001b[1;33m=\u001b[0m\u001b[0mself\u001b[0m\u001b[1;33m.\u001b[0m\u001b[0m_n_jobs\u001b[0m\u001b[1;33m)\u001b[0m\u001b[1;33m:\u001b[0m\u001b[1;33m\u001b[0m\u001b[1;33m\u001b[0m\u001b[0m\n\u001b[0;32m    224\u001b[0m             return [func(*args, **kwargs)\n\u001b[1;32m--> 225\u001b[1;33m                     for func, args, kwargs in self.items]\n\u001b[0m\u001b[0;32m    226\u001b[0m \u001b[1;33m\u001b[0m\u001b[0m\n\u001b[0;32m    227\u001b[0m     \u001b[1;32mdef\u001b[0m \u001b[0m__len__\u001b[0m\u001b[1;33m(\u001b[0m\u001b[0mself\u001b[0m\u001b[1;33m)\u001b[0m\u001b[1;33m:\u001b[0m\u001b[1;33m\u001b[0m\u001b[1;33m\u001b[0m\u001b[0m\n",
      "\u001b[1;32mC:\\Program Files\\Anaconda\\lib\\site-packages\\sklearn\\model_selection\\_validation.py\u001b[0m in \u001b[0;36m_fit_and_score\u001b[1;34m(estimator, X, y, scorer, train, test, verbose, parameters, fit_params, return_train_score, return_parameters, return_n_test_samples, return_times, return_estimator, error_score)\u001b[0m\n\u001b[0;32m    526\u001b[0m             \u001b[0mestimator\u001b[0m\u001b[1;33m.\u001b[0m\u001b[0mfit\u001b[0m\u001b[1;33m(\u001b[0m\u001b[0mX_train\u001b[0m\u001b[1;33m,\u001b[0m \u001b[1;33m**\u001b[0m\u001b[0mfit_params\u001b[0m\u001b[1;33m)\u001b[0m\u001b[1;33m\u001b[0m\u001b[1;33m\u001b[0m\u001b[0m\n\u001b[0;32m    527\u001b[0m         \u001b[1;32melse\u001b[0m\u001b[1;33m:\u001b[0m\u001b[1;33m\u001b[0m\u001b[1;33m\u001b[0m\u001b[0m\n\u001b[1;32m--> 528\u001b[1;33m             \u001b[0mestimator\u001b[0m\u001b[1;33m.\u001b[0m\u001b[0mfit\u001b[0m\u001b[1;33m(\u001b[0m\u001b[0mX_train\u001b[0m\u001b[1;33m,\u001b[0m \u001b[0my_train\u001b[0m\u001b[1;33m,\u001b[0m \u001b[1;33m**\u001b[0m\u001b[0mfit_params\u001b[0m\u001b[1;33m)\u001b[0m\u001b[1;33m\u001b[0m\u001b[1;33m\u001b[0m\u001b[0m\n\u001b[0m\u001b[0;32m    529\u001b[0m \u001b[1;33m\u001b[0m\u001b[0m\n\u001b[0;32m    530\u001b[0m     \u001b[1;32mexcept\u001b[0m \u001b[0mException\u001b[0m \u001b[1;32mas\u001b[0m \u001b[0me\u001b[0m\u001b[1;33m:\u001b[0m\u001b[1;33m\u001b[0m\u001b[1;33m\u001b[0m\u001b[0m\n",
      "\u001b[1;32mC:\\Program Files\\Anaconda\\lib\\site-packages\\tensorflow\\python\\keras\\wrappers\\scikit_learn.py\u001b[0m in \u001b[0;36mfit\u001b[1;34m(self, x, y, **kwargs)\u001b[0m\n\u001b[0;32m    221\u001b[0m       \u001b[1;32mraise\u001b[0m \u001b[0mValueError\u001b[0m\u001b[1;33m(\u001b[0m\u001b[1;34m'Invalid shape for y: '\u001b[0m \u001b[1;33m+\u001b[0m \u001b[0mstr\u001b[0m\u001b[1;33m(\u001b[0m\u001b[0my\u001b[0m\u001b[1;33m.\u001b[0m\u001b[0mshape\u001b[0m\u001b[1;33m)\u001b[0m\u001b[1;33m)\u001b[0m\u001b[1;33m\u001b[0m\u001b[1;33m\u001b[0m\u001b[0m\n\u001b[0;32m    222\u001b[0m     \u001b[0mself\u001b[0m\u001b[1;33m.\u001b[0m\u001b[0mn_classes_\u001b[0m \u001b[1;33m=\u001b[0m \u001b[0mlen\u001b[0m\u001b[1;33m(\u001b[0m\u001b[0mself\u001b[0m\u001b[1;33m.\u001b[0m\u001b[0mclasses_\u001b[0m\u001b[1;33m)\u001b[0m\u001b[1;33m\u001b[0m\u001b[1;33m\u001b[0m\u001b[0m\n\u001b[1;32m--> 223\u001b[1;33m     \u001b[1;32mreturn\u001b[0m \u001b[0msuper\u001b[0m\u001b[1;33m(\u001b[0m\u001b[0mKerasClassifier\u001b[0m\u001b[1;33m,\u001b[0m \u001b[0mself\u001b[0m\u001b[1;33m)\u001b[0m\u001b[1;33m.\u001b[0m\u001b[0mfit\u001b[0m\u001b[1;33m(\u001b[0m\u001b[0mx\u001b[0m\u001b[1;33m,\u001b[0m \u001b[0my\u001b[0m\u001b[1;33m,\u001b[0m \u001b[1;33m**\u001b[0m\u001b[0mkwargs\u001b[0m\u001b[1;33m)\u001b[0m\u001b[1;33m\u001b[0m\u001b[1;33m\u001b[0m\u001b[0m\n\u001b[0m\u001b[0;32m    224\u001b[0m \u001b[1;33m\u001b[0m\u001b[0m\n\u001b[0;32m    225\u001b[0m   \u001b[1;32mdef\u001b[0m \u001b[0mpredict\u001b[0m\u001b[1;33m(\u001b[0m\u001b[0mself\u001b[0m\u001b[1;33m,\u001b[0m \u001b[0mx\u001b[0m\u001b[1;33m,\u001b[0m \u001b[1;33m**\u001b[0m\u001b[0mkwargs\u001b[0m\u001b[1;33m)\u001b[0m\u001b[1;33m:\u001b[0m\u001b[1;33m\u001b[0m\u001b[1;33m\u001b[0m\u001b[0m\n",
      "\u001b[1;32mC:\\Program Files\\Anaconda\\lib\\site-packages\\tensorflow\\python\\keras\\wrappers\\scikit_learn.py\u001b[0m in \u001b[0;36mfit\u001b[1;34m(self, x, y, **kwargs)\u001b[0m\n\u001b[0;32m    164\u001b[0m     \u001b[0mfit_args\u001b[0m\u001b[1;33m.\u001b[0m\u001b[0mupdate\u001b[0m\u001b[1;33m(\u001b[0m\u001b[0mkwargs\u001b[0m\u001b[1;33m)\u001b[0m\u001b[1;33m\u001b[0m\u001b[1;33m\u001b[0m\u001b[0m\n\u001b[0;32m    165\u001b[0m \u001b[1;33m\u001b[0m\u001b[0m\n\u001b[1;32m--> 166\u001b[1;33m     \u001b[0mhistory\u001b[0m \u001b[1;33m=\u001b[0m \u001b[0mself\u001b[0m\u001b[1;33m.\u001b[0m\u001b[0mmodel\u001b[0m\u001b[1;33m.\u001b[0m\u001b[0mfit\u001b[0m\u001b[1;33m(\u001b[0m\u001b[0mx\u001b[0m\u001b[1;33m,\u001b[0m \u001b[0my\u001b[0m\u001b[1;33m,\u001b[0m \u001b[1;33m**\u001b[0m\u001b[0mfit_args\u001b[0m\u001b[1;33m)\u001b[0m\u001b[1;33m\u001b[0m\u001b[1;33m\u001b[0m\u001b[0m\n\u001b[0m\u001b[0;32m    167\u001b[0m \u001b[1;33m\u001b[0m\u001b[0m\n\u001b[0;32m    168\u001b[0m     \u001b[1;32mreturn\u001b[0m \u001b[0mhistory\u001b[0m\u001b[1;33m\u001b[0m\u001b[1;33m\u001b[0m\u001b[0m\n",
      "\u001b[1;32mC:\\Program Files\\Anaconda\\lib\\site-packages\\tensorflow\\python\\keras\\engine\\training.py\u001b[0m in \u001b[0;36mfit\u001b[1;34m(self, x, y, batch_size, epochs, verbose, callbacks, validation_split, validation_data, shuffle, class_weight, sample_weight, initial_epoch, steps_per_epoch, validation_steps, validation_freq, max_queue_size, workers, use_multiprocessing, **kwargs)\u001b[0m\n\u001b[0;32m    778\u001b[0m           \u001b[0mvalidation_steps\u001b[0m\u001b[1;33m=\u001b[0m\u001b[0mvalidation_steps\u001b[0m\u001b[1;33m,\u001b[0m\u001b[1;33m\u001b[0m\u001b[1;33m\u001b[0m\u001b[0m\n\u001b[0;32m    779\u001b[0m           \u001b[0mvalidation_freq\u001b[0m\u001b[1;33m=\u001b[0m\u001b[0mvalidation_freq\u001b[0m\u001b[1;33m,\u001b[0m\u001b[1;33m\u001b[0m\u001b[1;33m\u001b[0m\u001b[0m\n\u001b[1;32m--> 780\u001b[1;33m           steps_name='steps_per_epoch')\n\u001b[0m\u001b[0;32m    781\u001b[0m \u001b[1;33m\u001b[0m\u001b[0m\n\u001b[0;32m    782\u001b[0m   def evaluate(self,\n",
      "\u001b[1;32mC:\\Program Files\\Anaconda\\lib\\site-packages\\tensorflow\\python\\keras\\engine\\training_arrays.py\u001b[0m in \u001b[0;36mmodel_iteration\u001b[1;34m(model, inputs, targets, sample_weights, batch_size, epochs, verbose, callbacks, val_inputs, val_targets, val_sample_weights, shuffle, initial_epoch, steps_per_epoch, validation_steps, validation_freq, mode, validation_in_fit, prepared_feed_values_from_dataset, steps_name, **kwargs)\u001b[0m\n\u001b[0;32m    361\u001b[0m \u001b[1;33m\u001b[0m\u001b[0m\n\u001b[0;32m    362\u001b[0m         \u001b[1;31m# Get outputs.\u001b[0m\u001b[1;33m\u001b[0m\u001b[1;33m\u001b[0m\u001b[1;33m\u001b[0m\u001b[0m\n\u001b[1;32m--> 363\u001b[1;33m         \u001b[0mbatch_outs\u001b[0m \u001b[1;33m=\u001b[0m \u001b[0mf\u001b[0m\u001b[1;33m(\u001b[0m\u001b[0mins_batch\u001b[0m\u001b[1;33m)\u001b[0m\u001b[1;33m\u001b[0m\u001b[1;33m\u001b[0m\u001b[0m\n\u001b[0m\u001b[0;32m    364\u001b[0m         \u001b[1;32mif\u001b[0m \u001b[1;32mnot\u001b[0m \u001b[0misinstance\u001b[0m\u001b[1;33m(\u001b[0m\u001b[0mbatch_outs\u001b[0m\u001b[1;33m,\u001b[0m \u001b[0mlist\u001b[0m\u001b[1;33m)\u001b[0m\u001b[1;33m:\u001b[0m\u001b[1;33m\u001b[0m\u001b[1;33m\u001b[0m\u001b[0m\n\u001b[0;32m    365\u001b[0m           \u001b[0mbatch_outs\u001b[0m \u001b[1;33m=\u001b[0m \u001b[1;33m[\u001b[0m\u001b[0mbatch_outs\u001b[0m\u001b[1;33m]\u001b[0m\u001b[1;33m\u001b[0m\u001b[1;33m\u001b[0m\u001b[0m\n",
      "\u001b[1;32mC:\\Program Files\\Anaconda\\lib\\site-packages\\tensorflow\\python\\keras\\backend.py\u001b[0m in \u001b[0;36m__call__\u001b[1;34m(self, inputs)\u001b[0m\n\u001b[0;32m   3287\u001b[0m         \u001b[0mfeed_symbols\u001b[0m \u001b[1;33m!=\u001b[0m \u001b[0mself\u001b[0m\u001b[1;33m.\u001b[0m\u001b[0m_feed_symbols\u001b[0m \u001b[1;32mor\u001b[0m \u001b[0mself\u001b[0m\u001b[1;33m.\u001b[0m\u001b[0mfetches\u001b[0m \u001b[1;33m!=\u001b[0m \u001b[0mself\u001b[0m\u001b[1;33m.\u001b[0m\u001b[0m_fetches\u001b[0m \u001b[1;32mor\u001b[0m\u001b[1;33m\u001b[0m\u001b[1;33m\u001b[0m\u001b[0m\n\u001b[0;32m   3288\u001b[0m         session != self._session):\n\u001b[1;32m-> 3289\u001b[1;33m       \u001b[0mself\u001b[0m\u001b[1;33m.\u001b[0m\u001b[0m_make_callable\u001b[0m\u001b[1;33m(\u001b[0m\u001b[0mfeed_arrays\u001b[0m\u001b[1;33m,\u001b[0m \u001b[0mfeed_symbols\u001b[0m\u001b[1;33m,\u001b[0m \u001b[0msymbol_vals\u001b[0m\u001b[1;33m,\u001b[0m \u001b[0msession\u001b[0m\u001b[1;33m)\u001b[0m\u001b[1;33m\u001b[0m\u001b[1;33m\u001b[0m\u001b[0m\n\u001b[0m\u001b[0;32m   3290\u001b[0m \u001b[1;33m\u001b[0m\u001b[0m\n\u001b[0;32m   3291\u001b[0m     fetched = self._callable_fn(*array_vals,\n",
      "\u001b[1;32mC:\\Program Files\\Anaconda\\lib\\site-packages\\tensorflow\\python\\keras\\backend.py\u001b[0m in \u001b[0;36m_make_callable\u001b[1;34m(self, feed_arrays, feed_symbols, symbol_vals, session)\u001b[0m\n\u001b[0;32m   3220\u001b[0m       \u001b[0mcallable_opts\u001b[0m\u001b[1;33m.\u001b[0m\u001b[0mrun_options\u001b[0m\u001b[1;33m.\u001b[0m\u001b[0mCopyFrom\u001b[0m\u001b[1;33m(\u001b[0m\u001b[0mself\u001b[0m\u001b[1;33m.\u001b[0m\u001b[0mrun_options\u001b[0m\u001b[1;33m)\u001b[0m\u001b[1;33m\u001b[0m\u001b[1;33m\u001b[0m\u001b[0m\n\u001b[0;32m   3221\u001b[0m     \u001b[1;31m# Create callable.\u001b[0m\u001b[1;33m\u001b[0m\u001b[1;33m\u001b[0m\u001b[1;33m\u001b[0m\u001b[0m\n\u001b[1;32m-> 3222\u001b[1;33m     \u001b[0mcallable_fn\u001b[0m \u001b[1;33m=\u001b[0m \u001b[0msession\u001b[0m\u001b[1;33m.\u001b[0m\u001b[0m_make_callable_from_options\u001b[0m\u001b[1;33m(\u001b[0m\u001b[0mcallable_opts\u001b[0m\u001b[1;33m)\u001b[0m\u001b[1;33m\u001b[0m\u001b[1;33m\u001b[0m\u001b[0m\n\u001b[0m\u001b[0;32m   3223\u001b[0m     \u001b[1;31m# Cache parameters corresponding to the generated callable, so that\u001b[0m\u001b[1;33m\u001b[0m\u001b[1;33m\u001b[0m\u001b[1;33m\u001b[0m\u001b[0m\n\u001b[0;32m   3224\u001b[0m     \u001b[1;31m# we can detect future mismatches and refresh the callable.\u001b[0m\u001b[1;33m\u001b[0m\u001b[1;33m\u001b[0m\u001b[1;33m\u001b[0m\u001b[0m\n",
      "\u001b[1;32mC:\\Program Files\\Anaconda\\lib\\site-packages\\tensorflow\\python\\client\\session.py\u001b[0m in \u001b[0;36m_make_callable_from_options\u001b[1;34m(self, callable_options)\u001b[0m\n\u001b[0;32m   1487\u001b[0m     \"\"\"\n\u001b[0;32m   1488\u001b[0m     \u001b[0mself\u001b[0m\u001b[1;33m.\u001b[0m\u001b[0m_extend_graph\u001b[0m\u001b[1;33m(\u001b[0m\u001b[1;33m)\u001b[0m\u001b[1;33m\u001b[0m\u001b[1;33m\u001b[0m\u001b[0m\n\u001b[1;32m-> 1489\u001b[1;33m     \u001b[1;32mreturn\u001b[0m \u001b[0mBaseSession\u001b[0m\u001b[1;33m.\u001b[0m\u001b[0m_Callable\u001b[0m\u001b[1;33m(\u001b[0m\u001b[0mself\u001b[0m\u001b[1;33m,\u001b[0m \u001b[0mcallable_options\u001b[0m\u001b[1;33m)\u001b[0m\u001b[1;33m\u001b[0m\u001b[1;33m\u001b[0m\u001b[0m\n\u001b[0m\u001b[0;32m   1490\u001b[0m \u001b[1;33m\u001b[0m\u001b[0m\n\u001b[0;32m   1491\u001b[0m \u001b[1;33m\u001b[0m\u001b[0m\n",
      "\u001b[1;32mC:\\Program Files\\Anaconda\\lib\\site-packages\\tensorflow\\python\\client\\session.py\u001b[0m in \u001b[0;36m__init__\u001b[1;34m(self, session, callable_options)\u001b[0m\n\u001b[0;32m   1444\u001b[0m       \u001b[1;32mtry\u001b[0m\u001b[1;33m:\u001b[0m\u001b[1;33m\u001b[0m\u001b[1;33m\u001b[0m\u001b[0m\n\u001b[0;32m   1445\u001b[0m         self._handle = tf_session.TF_SessionMakeCallable(\n\u001b[1;32m-> 1446\u001b[1;33m             session._session, options_ptr)\n\u001b[0m\u001b[0;32m   1447\u001b[0m       \u001b[1;32mfinally\u001b[0m\u001b[1;33m:\u001b[0m\u001b[1;33m\u001b[0m\u001b[1;33m\u001b[0m\u001b[0m\n\u001b[0;32m   1448\u001b[0m         \u001b[0mtf_session\u001b[0m\u001b[1;33m.\u001b[0m\u001b[0mTF_DeleteBuffer\u001b[0m\u001b[1;33m(\u001b[0m\u001b[0moptions_ptr\u001b[0m\u001b[1;33m)\u001b[0m\u001b[1;33m\u001b[0m\u001b[1;33m\u001b[0m\u001b[0m\n",
      "\u001b[1;31mKeyboardInterrupt\u001b[0m: "
     ]
    }
   ],
   "source": [
    "estimator = KerasClassifier(build_fn=create_baseline, epochs=25, batch_size=32, verbose=2)\n",
    "kfold = StratifiedKFold(n_splits=30, shuffle=True, random_state=seed)\n",
    "results = cross_val_score(estimator, X_train, y_train, cv=kfold)\n",
    "print(\"Results: %.2f%% (%.2f%%)\" % (results.mean()*100, results.std()*100))"
   ]
  },
  {
   "cell_type": "code",
   "execution_count": null,
   "metadata": {},
   "outputs": [],
   "source": []
  }
 ],
 "metadata": {
  "kernelspec": {
   "display_name": "Python [conda env:root] *",
   "language": "python",
   "name": "conda-root-py"
  },
  "language_info": {
   "codemirror_mode": {
    "name": "ipython",
    "version": 3
   },
   "file_extension": ".py",
   "mimetype": "text/x-python",
   "name": "python",
   "nbconvert_exporter": "python",
   "pygments_lexer": "ipython3",
   "version": "3.7.3"
  }
 },
 "nbformat": 4,
 "nbformat_minor": 2
}
